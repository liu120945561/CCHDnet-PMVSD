{
 "cells": [
  {
   "cell_type": "code",
   "execution_count": 5,
   "metadata": {},
   "outputs": [],
   "source": [
    "import jsonlines"
   ]
  },
  {
   "cell_type": "code",
   "execution_count": 6,
   "metadata": {},
   "outputs": [],
   "source": [
    "with jsonlines.open('/root/nas/关系抽取/2024-08-25_算法打包/实体识别/result_output/gper/CMeIE/08-25-22-34_0.5/entity_list.jsonl','r') as f:\n",
    "    predict_data0 = [data for data in f]\n",
    "with jsonlines.open('/root/nas/关系抽取/2024-08-25_算法打包/实体识别/CMeIE/CMeIE_test.json','r') as f:\n",
    "    test_samples = [data for data in f]"
   ]
  },
  {
   "cell_type": "code",
   "execution_count": 7,
   "metadata": {},
   "outputs": [],
   "source": [
    "preds = []\n",
    "golds = []\n",
    "for index,data in enumerate(test_samples):\n",
    "    for spo in data['entity_list']:\n",
    "        golds.append((index,spo['entity'].lower(),spo['entity_type']))\n",
    "\n",
    "for index,data in enumerate(predict_data0):\n",
    "    for spo in data['entity_list']:\n",
    "        preds.append((index,spo['entity'].lower(),spo['entity_type']))\n",
    "try:\n",
    "    P = len(set(preds) & set(golds)) / len(set(preds))\n",
    "    R = len(set(preds) & set(golds)) / len(set(golds))\n",
    "    F = (2 * P * R) / (P + R)\n",
    "except:\n",
    "    P = 0\n",
    "    R = 0\n",
    "    F = 0"
   ]
  },
  {
   "cell_type": "code",
   "execution_count": 8,
   "metadata": {},
   "outputs": [
    {
     "data": {
      "text/plain": [
       "(0.8156303972366149, 0.8000282346297735, 0.8077539821116774)"
      ]
     },
     "execution_count": 8,
     "metadata": {},
     "output_type": "execute_result"
    }
   ],
   "source": [
    "P,R,F"
   ]
  }
 ],
 "metadata": {
  "kernelspec": {
   "display_name": "torch_rl",
   "language": "python",
   "name": "python3"
  },
  "language_info": {
   "codemirror_mode": {
    "name": "ipython",
    "version": 3
   },
   "file_extension": ".py",
   "mimetype": "text/x-python",
   "name": "python",
   "nbconvert_exporter": "python",
   "pygments_lexer": "ipython3",
   "version": "3.9.16"
  },
  "orig_nbformat": 4
 },
 "nbformat": 4,
 "nbformat_minor": 2
}
